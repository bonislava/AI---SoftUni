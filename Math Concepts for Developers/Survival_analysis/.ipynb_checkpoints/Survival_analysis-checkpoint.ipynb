{
 "cells": [
  {
   "cell_type": "markdown",
   "id": "81d2ef40",
   "metadata": {},
   "source": [
    "<div style = \"text-align:center;\">\n",
    "    <h1 style = \"color:blue;\"> Survival Analysis\n",
    "</h1>\n",
    "   </div"
   ]
  },
  {
   "cell_type": "markdown",
   "id": "acfc10d3",
   "metadata": {},
   "source": [
    "## **Libraries**"
   ]
  },
  {
   "cell_type": "code",
   "execution_count": 1,
   "id": "1cbd00b0",
   "metadata": {},
   "outputs": [],
   "source": [
    "import numpy as np\n",
    "import pandas as pd\n",
    "import matplotlib.pyplot as plt\n",
    "from lifelines import KaplanMeierFitter\n",
    "from lifelines import CoxPHFitter\n",
    "from lifelines.utils import median_survival_times"
   ]
  },
  {
   "cell_type": "markdown",
   "id": "b3d4312c",
   "metadata": {},
   "source": [
    "## **Introduction**\n",
    "**Survival analysis is a statistical method used to analyze the time until an event of interest occurs.\n",
    "The events can include disease occurrence, death, or mechanical failure.\n",
    "It takes into account censored data, where events have not occurred for some individuals.**"
   ]
  },
  {
   "cell_type": "markdown",
   "id": "fb4060d7",
   "metadata": {},
   "source": [
    "## **Project outline**\n",
    "**Description of VA lung cancer data,\n",
    "Kaplan Meier curve estimation,\n",
    "Fitting Cox Proportional Hazard Regression,\n",
    "Testing Proportional Hazard assumption**"
   ]
  },
  {
   "cell_type": "markdown",
   "id": "8ad1e0a9",
   "metadata": {},
   "source": [
    "## [Data Source](https://www.stat.rice.edu/~sneeley/STAT553/Datasets/survivaldata.txt)\n",
    "**VA lung cancer data** \n",
    "  \n",
    "**Patients with advanced, inoperable lung cancer were treated with \n",
    "chemotherapy.** \n",
    "\n",
    "**Veteran's Administration Lung Cancer Trial \n",
    "Taken from Kalbfleisch and Prentice, pages 223-224** "
   ]
  },
  {
   "cell_type": "markdown",
   "id": "09a0611b",
   "metadata": {},
   "source": [
    "# **Data Loading**\n",
    "##### Here you can see the datа loading from the \"dataset_for_my_project\" notebook and the first five observations using the head() function."
   ]
  },
  {
   "cell_type": "code",
   "execution_count": 2,
   "id": "ded1b0ad",
   "metadata": {},
   "outputs": [
    {
     "data": {
      "text/html": [
       "<div>\n",
       "<style scoped>\n",
       "    .dataframe tbody tr th:only-of-type {\n",
       "        vertical-align: middle;\n",
       "    }\n",
       "\n",
       "    .dataframe tbody tr th {\n",
       "        vertical-align: top;\n",
       "    }\n",
       "\n",
       "    .dataframe thead th {\n",
       "        text-align: right;\n",
       "    }\n",
       "</style>\n",
       "<table border=\"1\" class=\"dataframe\">\n",
       "  <thead>\n",
       "    <tr style=\"text-align: right;\">\n",
       "      <th></th>\n",
       "      <th>Treatment</th>\n",
       "      <th>Cell Type</th>\n",
       "      <th>Survival(Days)</th>\n",
       "      <th>Status</th>\n",
       "      <th>Karnofsky score</th>\n",
       "      <th>Months from Diagnosis</th>\n",
       "      <th>Age</th>\n",
       "      <th>Prior Therapy</th>\n",
       "    </tr>\n",
       "  </thead>\n",
       "  <tbody>\n",
       "    <tr>\n",
       "      <th>0</th>\n",
       "      <td>1</td>\n",
       "      <td>1</td>\n",
       "      <td>72</td>\n",
       "      <td>1</td>\n",
       "      <td>60</td>\n",
       "      <td>7</td>\n",
       "      <td>69</td>\n",
       "      <td>0</td>\n",
       "    </tr>\n",
       "    <tr>\n",
       "      <th>1</th>\n",
       "      <td>1</td>\n",
       "      <td>1</td>\n",
       "      <td>411</td>\n",
       "      <td>1</td>\n",
       "      <td>70</td>\n",
       "      <td>5</td>\n",
       "      <td>64</td>\n",
       "      <td>10</td>\n",
       "    </tr>\n",
       "    <tr>\n",
       "      <th>2</th>\n",
       "      <td>1</td>\n",
       "      <td>1</td>\n",
       "      <td>228</td>\n",
       "      <td>1</td>\n",
       "      <td>60</td>\n",
       "      <td>3</td>\n",
       "      <td>38</td>\n",
       "      <td>0</td>\n",
       "    </tr>\n",
       "    <tr>\n",
       "      <th>3</th>\n",
       "      <td>1</td>\n",
       "      <td>1</td>\n",
       "      <td>126</td>\n",
       "      <td>1</td>\n",
       "      <td>60</td>\n",
       "      <td>9</td>\n",
       "      <td>63</td>\n",
       "      <td>10</td>\n",
       "    </tr>\n",
       "    <tr>\n",
       "      <th>4</th>\n",
       "      <td>1</td>\n",
       "      <td>1</td>\n",
       "      <td>118</td>\n",
       "      <td>1</td>\n",
       "      <td>70</td>\n",
       "      <td>11</td>\n",
       "      <td>65</td>\n",
       "      <td>10</td>\n",
       "    </tr>\n",
       "  </tbody>\n",
       "</table>\n",
       "</div>"
      ],
      "text/plain": [
       "   Treatment  Cell Type  Survival(Days)  Status  Karnofsky score  \\\n",
       "0          1          1              72       1               60   \n",
       "1          1          1             411       1               70   \n",
       "2          1          1             228       1               60   \n",
       "3          1          1             126       1               60   \n",
       "4          1          1             118       1               70   \n",
       "\n",
       "   Months from Diagnosis  Age  Prior Therapy  \n",
       "0                      7   69              0  \n",
       "1                      5   64             10  \n",
       "2                      3   38              0  \n",
       "3                      9   63             10  \n",
       "4                     11   65             10  "
      ]
     },
     "execution_count": 2,
     "metadata": {},
     "output_type": "execute_result"
    }
   ],
   "source": [
    "data = pd.read_csv(\"Va_lung_cancer_data.csv\")\n",
    "data.head()"
   ]
  },
  {
   "cell_type": "markdown",
   "id": "82d0780b",
   "metadata": {},
   "source": [
    "## **Check the shape** \n",
    "##### Check the shape of data using **.shape** attribute.\n",
    "##### The data consist of 137 observations and 8 variables (columns)."
   ]
  },
  {
   "cell_type": "code",
   "execution_count": 3,
   "id": "014c9526",
   "metadata": {},
   "outputs": [
    {
     "data": {
      "text/plain": [
       "(137, 8)"
      ]
     },
     "execution_count": 3,
     "metadata": {},
     "output_type": "execute_result"
    }
   ],
   "source": [
    "data.shape"
   ]
  },
  {
   "cell_type": "markdown",
   "id": "2379d8d5",
   "metadata": {},
   "source": [
    "# **Data Description**\n",
    "## Variables"
   ]
  },
  {
   "cell_type": "markdown",
   "id": "30ad0f64",
   "metadata": {},
   "source": [
    "1. Treatment:\n",
    "    * 1 = standard\n",
    "    * 2 = test\n",
    "2. Cell type: \n",
    "    * 1 = squamous \n",
    "    * 2 = small cell \n",
    "    * 3 = adeno \n",
    "    * 4 = large\n",
    "3. Survival in days \n",
    "4. Status: \n",
    "    * 1 = dead\n",
    "    * 0 = censored \n",
    "5. Karnofsky score (measure of general performance, 100=best) **(! Check down what is that )**\n",
    "6. Months from Diagnosis \n",
    "7. Age in years \n",
    "8. Prior therapy: \n",
    "    * 0 = no \n",
    "    * 10 = yes "
   ]
  },
  {
   "cell_type": "markdown",
   "id": "b84fd829",
   "metadata": {},
   "source": [
    "## **! Important addition**\n",
    "### [Karnofsky score](https://en.wikipedia.org/wiki/Performance_status)\n",
    "##### The Karnofsky Performance Score (KPS) ranking runs from 100 to 0, where 100 is \"perfect\" health and 0 is death. Practitioners occasionally assign performance scores in between standard intervals of 10. This scoring system is named after Dr. David A. Karnofsky, who described the scale with Dr. Walter H. Abelmann, Dr. Lloyd F. Craver, and Dr. Joseph H. Burchenal in 1948.The primary purpose of its development was to allow physicians to evaluate a patient's ability to survive chemotherapy for cancer.\n",
    "### **You can see also** [Karnofsky Performance Status scale](https://www.uptodate.com/contents/image?imageKey=PC%2F58785)"
   ]
  },
  {
   "cell_type": "markdown",
   "id": "4dfb4dba",
   "metadata": {},
   "source": [
    "# **Base label fixing**\n",
    "\n",
    "##### The \"Tratment\" is categorical data. The status consists of 1: standard and 2: test; We can keep it, but I usually prefer the base label for categorical variable as zero.To make the base label 0 - deduct 1 from the variable."
   ]
  },
  {
   "cell_type": "code",
   "execution_count": 4,
   "id": "46476119",
   "metadata": {},
   "outputs": [
    {
     "name": "stdout",
     "output_type": "stream",
     "text": [
      "   Treatment  Cell Type  Survival(Days)  Status  Karnofsky score  \\\n",
      "0          0          1              72       1               60   \n",
      "1          0          1             411       1               70   \n",
      "2          0          1             228       1               60   \n",
      "3          0          1             126       1               60   \n",
      "4          0          1             118       1               70   \n",
      "\n",
      "   Months from Diagnosis  Age  Prior Therapy  \n",
      "0                      7   69              0  \n",
      "1                      5   64             10  \n",
      "2                      3   38              0  \n",
      "3                      9   63             10  \n",
      "4                     11   65             10  \n"
     ]
    }
   ],
   "source": [
    "data[\"Treatment\"] = data[\"Treatment\"] - 1\n",
    "print(data.head())"
   ]
  },
  {
   "cell_type": "markdown",
   "id": "d97d0ab0",
   "metadata": {},
   "source": [
    "# **Check data types**\n",
    "##### With **.dtypes** attribute we can see the data types. Treatment, Cell Type, Syrvival(Days), Karnofsky score, Months from Diagnosis,Age and Prior Therapy are of integer64 type while Status is boolean"
   ]
  },
  {
   "cell_type": "code",
   "execution_count": 5,
   "id": "c634b972",
   "metadata": {},
   "outputs": [
    {
     "data": {
      "text/plain": [
       "Treatment                int64\n",
       "Cell Type                int64\n",
       "Survival(Days)           int64\n",
       "Status                   int64\n",
       "Karnofsky score          int64\n",
       "Months from Diagnosis    int64\n",
       "Age                      int64\n",
       "Prior Therapy            int64\n",
       "dtype: object"
      ]
     },
     "execution_count": 5,
     "metadata": {},
     "output_type": "execute_result"
    }
   ],
   "source": [
    "data.dtypes "
   ]
  },
  {
   "cell_type": "markdown",
   "id": "15e0df5e",
   "metadata": {},
   "source": [
    "# **Checking for missing values** \n",
    "##### in this project I selected data in which there were no variables that contained missing values, but if there were such data, this could be done in several ways (e.g. removing entirely (but this will reduce the sample) or imputing missing values)"
   ]
  },
  {
   "cell_type": "code",
   "execution_count": 6,
   "id": "5241d059",
   "metadata": {},
   "outputs": [
    {
     "data": {
      "text/plain": [
       "Treatment                0\n",
       "Cell Type                0\n",
       "Survival(Days)           0\n",
       "Status                   0\n",
       "Karnofsky score          0\n",
       "Months from Diagnosis    0\n",
       "Age                      0\n",
       "Prior Therapy            0\n",
       "dtype: int64"
      ]
     },
     "execution_count": 6,
     "metadata": {},
     "output_type": "execute_result"
    }
   ],
   "source": [
    "data.isnull().sum()"
   ]
  },
  {
   "cell_type": "markdown",
   "id": "4e814561",
   "metadata": {},
   "source": [
    "# **Bar plot**\n",
    "##### This code generates a bar plot that visually represents the distribution of treatments in a dataset. The x-axis represents the treatments, the y-axis represents the count of each treatment, and the bar heights correspond to the respective counts."
   ]
  },
  {
   "cell_type": "code",
   "execution_count": 7,
   "id": "20747085",
   "metadata": {},
   "outputs": [
    {
     "data": {
      "image/png": "[encoded data removed]",
      "text/plain": [
       "<Figure size 432x288 with 1 Axes>"
      ]
     },
     "metadata": {
      "needs_background": "light"
     },
     "output_type": "display_data"
    }
   ],
   "source": [
    "data[\"Treatment\"].value_counts().plot(kind = \"bar\")\n",
    "plt.xlabel(\"Treatment\")\n",
    "plt.ylabel(\"Count\")\n",
    "plt.title(\"Description of Treatments\")\n",
    "plt.show()"
   ]
  },
  {
   "cell_type": "markdown",
   "id": "bd06484a",
   "metadata": {},
   "source": [
    "# **Scatter plot**\n",
    "##### This code generates a scatter plot that allows us to examine the relationship between the \"Survival(Days)\" variable and the \"Age\" variable. The x-axis represents the number of days of survival, while the y-axis represents the age. Each dot on the scatter plot represents a data point, allowing us to visually analyze any patterns or correlations between age and survival in the dataset."
   ]
  },
  {
   "cell_type": "code",
   "execution_count": 8,
   "id": "51c2672e",
   "metadata": {},
   "outputs": [
    {
     "data": {
      "image/png": "[encoded data removed]",
      "text/plain": [
       "<Figure size 432x288 with 1 Axes>"
      ]
     },
     "metadata": {
      "needs_background": "light"
     },
     "output_type": "display_data"
    }
   ],
   "source": [
    "plt.scatter(data[\"Survival(Days)\"], data[\"Age\"])\n",
    "plt.xlabel(\"Survival (Days)\")\n",
    "plt.ylabel(\"Age\")\n",
    "plt.title(\"Age vs. Survival\")\n",
    "plt.show()"
   ]
  },
  {
   "cell_type": "markdown",
   "id": "5878c9fa",
   "metadata": {},
   "source": [
    "# **Data distribution**\n",
    "## **Histogram**\n",
    "### **T - Time variable, E - Event/Status variable**\n",
    "##### This code generates a histogram that shows the distribution of survival days. The x-axis represents the different time intervals or \"Survival(Days)\" values, while the y-axis represents the frequency or count of occurrences for each interval. The plot helps us visualize the overall distribution and identify any patterns or significant features in the survival time variable."
   ]
  },
  {
   "cell_type": "code",
   "execution_count": 9,
   "id": "76079f3f",
   "metadata": {},
   "outputs": [
    {
     "data": {
      "image/png": "[encoded data removed]",
      "text/plain": [
       "<Figure size 432x288 with 1 Axes>"
      ]
     },
     "metadata": {
      "needs_background": "light"
     },
     "output_type": "display_data"
    }
   ],
   "source": [
    "T = data[\"Survival(Days)\"]\n",
    "E = data[\"Status\"]\n",
    "plt.hist(T, bins = 50)\n",
    "plt.xlabel(\"Survival(Days)\")\n",
    "plt.ylabel(\"Status\")\n",
    "plt.title(\"Histogram of time variable\")\n",
    "plt.show() "
   ]
  },
  {
   "cell_type": "markdown",
   "id": "f09b02e6",
   "metadata": {},
   "source": [
    "# **Kaplan-Meier**\n",
    "##### The Kaplan-Meier estimator,also known as Kaplan-Meier curve or Kaplan-Meier survival analysis is a statistical method used to estimate the survival or survival probabilities in a group of subjects or patients over time."
   ]
  },
  {
   "cell_type": "markdown",
   "id": "ddbb6655",
   "metadata": {},
   "source": [
    "## **Kaplan-Meier math formula**\n",
    "$$\\hat{S}(t) = \\prod_{t_i < t} \\left(\\frac{{n_i}-{d_i}}{n_i}\\right)$$\n",
    "**where $di$ are the number of death events at time - $t$ and $ni$\n",
    " is the number of subjects at risk of death just prior to time $t$.**"
   ]
  },
  {
   "cell_type": "markdown",
   "id": "4790420d",
   "metadata": {},
   "source": [
    "## **Kaplan-Meier Curve Estimation**"
   ]
  },
  {
   "cell_type": "markdown",
   "id": "5704ce42",
   "metadata": {},
   "source": [
    "**The curve illustrates how survival probabilities change over the time horizon. As time passes, the probability of survival of lung cancer patients decreases.**"
   ]
  },
  {
   "cell_type": "markdown",
   "id": "4899f828",
   "metadata": {},
   "source": [
    "##### **kmf = KaplanMeierFitter()**: This line of code creates an instance of the KaplanMeierFitter class, which will be used to perform the Kaplan-Meier estimation.\n",
    "\n",
    "##### **kmf.fit(durations = T, event_observed = E)**: This line of code fits the Kaplan-Meier estimator to the data. The durations parameter represents the time durations, and the event_observed parameter indicates whether an event (such as death) was observed for each individual.\n",
    "\n",
    "##### **kmf.plot_survival_function()**: This line of code generates the plot of the estimated survival function using the Kaplan-Meier estimator.\n",
    "\n",
    "##### **plt.title(\"KM Plot with 95% CI\")**: This line of code sets the title of the plot, which describes the content of the visualization. In this case,the plot represents the Kaplan-Meier plot with a 95% confidence interval."
   ]
  },
  {
   "cell_type": "code",
   "execution_count": 10,
   "id": "6f7daffb",
   "metadata": {},
   "outputs": [
    {
     "data": {
      "image/png": "[encoded data removed]",
      "text/plain": [
       "<Figure size 432x288 with 1 Axes>"
      ]
     },
     "metadata": {
      "needs_background": "light"
     },
     "output_type": "display_data"
    }
   ],
   "source": [
    "kmf = KaplanMeierFitter()\n",
    "kmf.fit(durations = T, event_observed = E)\n",
    "kmf.plot_survival_function()\n",
    "plt.xlabel(\"durations\")\n",
    "plt.ylabel(\"event_observed\")\n",
    "plt.title(\"KM Plot with 95% CI\")\n",
    "plt.show()"
   ]
  },
  {
   "cell_type": "markdown",
   "id": "574fa0e4",
   "metadata": {},
   "source": [
    "## **Same plot without the 95% confidence interval**"
   ]
  },
  {
   "cell_type": "code",
   "execution_count": 11,
   "id": "afdaca7b",
   "metadata": {},
   "outputs": [
    {
     "data": {
      "image/png": "[encoded data removed]",
      "text/plain": [
       "<Figure size 432x288 with 1 Axes>"
      ]
     },
     "metadata": {
      "needs_background": "light"
     },
     "output_type": "display_data"
    }
   ],
   "source": [
    "kmf.survival_function_.plot()\n",
    "plt.xlabel(\"durations\")\n",
    "plt.ylabel(\"event_observed\")\n",
    "plt.title('Survival function')\n",
    "plt.show()"
   ]
  },
  {
   "cell_type": "markdown",
   "id": "da391cbc",
   "metadata": {},
   "source": [
    "## **Plot of a failure curve. Opposite of survival, i.e., Failure/death probabilities over time.**\n",
    "##### **kmf.plot_cumulative_density()**: This line plots the cumulative survival curve using the **plot_cumulative_density()** function of the kmf object."
   ]
  },
  {
   "cell_type": "code",
   "execution_count": 12,
   "id": "071295c3",
   "metadata": {},
   "outputs": [
    {
     "data": {
      "image/png": "[encoded data removed]",
      "text/plain": [
       "<Figure size 432x288 with 1 Axes>"
      ]
     },
     "metadata": {
      "needs_background": "light"
     },
     "output_type": "display_data"
    }
   ],
   "source": [
    "kmf.plot_cumulative_density()\n",
    "plt.xlabel(\"durations\")\n",
    "plt.ylabel(\"event_observed\")\n",
    "plt.title(\"Cumulative survival curve\")\n",
    "plt.show()"
   ]
  },
  {
   "cell_type": "markdown",
   "id": "fe2bae0e",
   "metadata": {},
   "source": [
    "## Median Survival Time and Confidence Intervals"
   ]
  },
  {
   "cell_type": "markdown",
   "id": "da1ef437",
   "metadata": {},
   "source": [
    "**Estimation of the median survival time and 95% confidence intervals. \n",
    "The median survival time is 80 days, which indicates that 50% of the sample live 80 days and 50% dies within this time. The 95% CI lower limit is 52 days, while the upper limit is 100 days.**\n",
    "\n",
    "##### **median = kmf.median_survival_time_**: This line calculates the median survival time using the median_survival_time_ attribute of the kmf object. The median survival time represents the time at which 50% of the individuals in the survival analysis have experienced the event of interest (such as death or failure).\n",
    "\n",
    "##### **median_confidence_interval = median_survival_times(kmf.confidence_interval_)**: This line calculates the confidence interval for the median survival time. It uses the median_survival_times() function, which takes the confidence_interval_ attribute of the kmf object as input. This function computes the confidence interval based on the provided confidence interval values."
   ]
  },
  {
   "cell_type": "code",
   "execution_count": 13,
   "id": "c4d8d99b",
   "metadata": {},
   "outputs": [
    {
     "name": "stdout",
     "output_type": "stream",
     "text": [
      "80.0\n",
      "     KM_estimate_lower_0.95  KM_estimate_upper_0.95\n",
      "0.5                    52.0                   100.0\n"
     ]
    }
   ],
   "source": [
    "median = kmf.median_survival_time_\n",
    "median_confidence_interval = median_survival_times(kmf.confidence_interval_)\n",
    "print(median)\n",
    "print(median_confidence_interval)"
   ]
  },
  {
   "cell_type": "markdown",
   "id": "c50e8691",
   "metadata": {},
   "source": [
    "## **Cox Proportional Hazard Model**\n",
    "**The Cox model, also known as the Cox proportional hazards model, is a statistical method used for analyzing survival data. It helps researchers understand how different factors or variables influence the time until an event of interest occurs, such as death, disease recurrence, or equipment failure.**\n",
    "\n",
    "**The key assumption of the Cox model is that the hazard function remains proportional over time. The hazard function represents the probability of experiencing the event at any given time. Proportional hazards means that the relative risk of the event happening between two individuals remains constant over time.**"
   ]
  },
  {
   "cell_type": "markdown",
   "id": "05232b2f",
   "metadata": {},
   "source": [
    "## **Math Formula**\n",
    "### $$ h(t|X) = h_0(t) \\cdot \\exp(b_1 X_1 + b_2 X_2 + \\ldots + b_p X_p)$$\n",
    "\n",
    "#### Where:\n",
    "$h(t|X)$ **represents the hazard function for an individual at time $t$, given the predictor variables** $X_1, X_2, \\ldots, X_p$"
   ]
  },
  {
   "cell_type": "markdown",
   "id": "db918243",
   "metadata": {},
   "source": [
    "$h_0(t)$ **is the baseline hazard function, which represents the hazard for an individual with all predictor variables equal to zero.**"
   ]
  },
  {
   "cell_type": "markdown",
   "id": "884685c7",
   "metadata": {},
   "source": [
    "$b_1, b_2, \\ldots, b_p$ **are the regression coefficients or parameter estimates associated with the predictor variables** $X_1, X_2, \\ldots, X_p$"
   ]
  },
  {
   "cell_type": "markdown",
   "id": "840cfbeb",
   "metadata": {},
   "source": [
    "$X_1, X_2, \\ldots, X_p$ **are the values of the predictor variables for a specific individual.**"
   ]
  },
  {
   "cell_type": "markdown",
   "id": "294ba814",
   "metadata": {},
   "source": [
    "$\\exp()$ **is the exponential function.**"
   ]
  },
  {
   "cell_type": "markdown",
   "id": "705ec662",
   "metadata": {},
   "source": [
    "### Data preparation\n",
    "#### Dummy coding\n",
    "**pd.get_dummies(data[\"Cell Type\"], prefix='C_Type')**: This line of code is calling the **get_dummies()** function from the pandas library. It is used to create dummy variables from a categorical variable. In this case, the categorical variable is **data[\"Cell Type\"]**. Each unique value in **data[\"Cell Type\"]** will be transformed into a separate binary column."
   ]
  },
  {
   "cell_type": "code",
   "execution_count": 14,
   "id": "d3f386eb",
   "metadata": {},
   "outputs": [
    {
     "data": {
      "text/html": [
       "<div>\n",
       "<style scoped>\n",
       "    .dataframe tbody tr th:only-of-type {\n",
       "        vertical-align: middle;\n",
       "    }\n",
       "\n",
       "    .dataframe tbody tr th {\n",
       "        vertical-align: top;\n",
       "    }\n",
       "\n",
       "    .dataframe thead th {\n",
       "        text-align: right;\n",
       "    }\n",
       "</style>\n",
       "<table border=\"1\" class=\"dataframe\">\n",
       "  <thead>\n",
       "    <tr style=\"text-align: right;\">\n",
       "      <th></th>\n",
       "      <th>C_Type_1</th>\n",
       "      <th>C_Type_2</th>\n",
       "      <th>C_Type_3</th>\n",
       "      <th>C_Type_4</th>\n",
       "    </tr>\n",
       "  </thead>\n",
       "  <tbody>\n",
       "    <tr>\n",
       "      <th>0</th>\n",
       "      <td>1</td>\n",
       "      <td>0</td>\n",
       "      <td>0</td>\n",
       "      <td>0</td>\n",
       "    </tr>\n",
       "    <tr>\n",
       "      <th>1</th>\n",
       "      <td>1</td>\n",
       "      <td>0</td>\n",
       "      <td>0</td>\n",
       "      <td>0</td>\n",
       "    </tr>\n",
       "    <tr>\n",
       "      <th>2</th>\n",
       "      <td>1</td>\n",
       "      <td>0</td>\n",
       "      <td>0</td>\n",
       "      <td>0</td>\n",
       "    </tr>\n",
       "    <tr>\n",
       "      <th>3</th>\n",
       "      <td>1</td>\n",
       "      <td>0</td>\n",
       "      <td>0</td>\n",
       "      <td>0</td>\n",
       "    </tr>\n",
       "  </tbody>\n",
       "</table>\n",
       "</div>"
      ],
      "text/plain": [
       "   C_Type_1  C_Type_2  C_Type_3  C_Type_4\n",
       "0         1         0         0         0\n",
       "1         1         0         0         0\n",
       "2         1         0         0         0\n",
       "3         1         0         0         0"
      ]
     },
     "execution_count": 14,
     "metadata": {},
     "output_type": "execute_result"
    }
   ],
   "source": [
    "dummies_cell = pd.get_dummies(data[\"Cell Type\"], prefix = 'C_Type')\n",
    "dummies_cell.head(4)"
   ]
  },
  {
   "cell_type": "markdown",
   "id": "9c17d000",
   "metadata": {},
   "source": [
    "### Concatenating to the original data\n",
    "It selects specific columns from dummies_cell, concatenates them with data, drops the \"Cell Type\" column, and finally displays the first few rows of the resulting DataFrame."
   ]
  },
  {
   "cell_type": "markdown",
   "id": "1087edf8",
   "metadata": {},
   "source": [
    "**dummies_cell = dummies_cell[[\"C_Type_1\", \"C_Type_2\"]]**: This line of code is selecting specific columns from the **dummies_cell** DataFrame and reassigning the result back to dummies_cell. The columns selected are **\"C_Type_1\" and \"C_Type_2\"** This operation keeps only these two columns in the dummies_cell DataFrame and drops any other columns that may have been present.\n",
    "\n",
    "**data = pd.concat([data, dummies_cell], axis=1)** This line of code uses the **concat()** function from the pandas library to concatenate (combine) two DataFrames along the columns (axis=1). The original DataFrame data and the modified **dummies_cell (containing only \"C_Type_1\" and \"C_Type_2\" columns)** are concatenated horizontally. The result is assigned back to data, effectively adding the **\"C_Type_1\" and \"C_Type_2\"** columns to the original data.\n",
    "\n",
    "**data = data.drop(\"Cell Type\", axis=1)**: This line of code uses the **drop()** function from pandas to remove a column from the DataFrame. It removes the column labeled \"Cell Type\" from the data DataFrame. The axis=1 parameter specifies that we want to drop a column (as opposed to dropping a row)."
   ]
  },
  {
   "cell_type": "code",
   "execution_count": 15,
   "id": "f45f1650",
   "metadata": {},
   "outputs": [
    {
     "data": {
      "text/html": [
       "<div>\n",
       "<style scoped>\n",
       "    .dataframe tbody tr th:only-of-type {\n",
       "        vertical-align: middle;\n",
       "    }\n",
       "\n",
       "    .dataframe tbody tr th {\n",
       "        vertical-align: top;\n",
       "    }\n",
       "\n",
       "    .dataframe thead th {\n",
       "        text-align: right;\n",
       "    }\n",
       "</style>\n",
       "<table border=\"1\" class=\"dataframe\">\n",
       "  <thead>\n",
       "    <tr style=\"text-align: right;\">\n",
       "      <th></th>\n",
       "      <th>Treatment</th>\n",
       "      <th>Survival(Days)</th>\n",
       "      <th>Status</th>\n",
       "      <th>Karnofsky score</th>\n",
       "      <th>Months from Diagnosis</th>\n",
       "      <th>Age</th>\n",
       "      <th>Prior Therapy</th>\n",
       "      <th>C_Type_1</th>\n",
       "      <th>C_Type_2</th>\n",
       "    </tr>\n",
       "  </thead>\n",
       "  <tbody>\n",
       "    <tr>\n",
       "      <th>0</th>\n",
       "      <td>0</td>\n",
       "      <td>72</td>\n",
       "      <td>1</td>\n",
       "      <td>60</td>\n",
       "      <td>7</td>\n",
       "      <td>69</td>\n",
       "      <td>0</td>\n",
       "      <td>1</td>\n",
       "      <td>0</td>\n",
       "    </tr>\n",
       "    <tr>\n",
       "      <th>1</th>\n",
       "      <td>0</td>\n",
       "      <td>411</td>\n",
       "      <td>1</td>\n",
       "      <td>70</td>\n",
       "      <td>5</td>\n",
       "      <td>64</td>\n",
       "      <td>10</td>\n",
       "      <td>1</td>\n",
       "      <td>0</td>\n",
       "    </tr>\n",
       "    <tr>\n",
       "      <th>2</th>\n",
       "      <td>0</td>\n",
       "      <td>228</td>\n",
       "      <td>1</td>\n",
       "      <td>60</td>\n",
       "      <td>3</td>\n",
       "      <td>38</td>\n",
       "      <td>0</td>\n",
       "      <td>1</td>\n",
       "      <td>0</td>\n",
       "    </tr>\n",
       "    <tr>\n",
       "      <th>3</th>\n",
       "      <td>0</td>\n",
       "      <td>126</td>\n",
       "      <td>1</td>\n",
       "      <td>60</td>\n",
       "      <td>9</td>\n",
       "      <td>63</td>\n",
       "      <td>10</td>\n",
       "      <td>1</td>\n",
       "      <td>0</td>\n",
       "    </tr>\n",
       "    <tr>\n",
       "      <th>4</th>\n",
       "      <td>0</td>\n",
       "      <td>118</td>\n",
       "      <td>1</td>\n",
       "      <td>70</td>\n",
       "      <td>11</td>\n",
       "      <td>65</td>\n",
       "      <td>10</td>\n",
       "      <td>1</td>\n",
       "      <td>0</td>\n",
       "    </tr>\n",
       "  </tbody>\n",
       "</table>\n",
       "</div>"
      ],
      "text/plain": [
       "   Treatment  Survival(Days)  Status  Karnofsky score  Months from Diagnosis  \\\n",
       "0          0              72       1               60                      7   \n",
       "1          0             411       1               70                      5   \n",
       "2          0             228       1               60                      3   \n",
       "3          0             126       1               60                      9   \n",
       "4          0             118       1               70                     11   \n",
       "\n",
       "   Age  Prior Therapy  C_Type_1  C_Type_2  \n",
       "0   69              0         1         0  \n",
       "1   64             10         1         0  \n",
       "2   38              0         1         0  \n",
       "3   63             10         1         0  \n",
       "4   65             10         1         0  "
      ]
     },
     "execution_count": 15,
     "metadata": {},
     "output_type": "execute_result"
    }
   ],
   "source": [
    "dummies_cell = dummies_cell[[\"C_Type_1\", \"C_Type_2\"]]\n",
    "data = pd.concat([data, dummies_cell], axis = 1)\n",
    "data = data.drop(\"Cell Type\", axis = 1)\n",
    "data.head()"
   ]
  },
  {
   "cell_type": "markdown",
   "id": "b29eaa17",
   "metadata": {},
   "source": [
    "### **Fitting the Cox Model**"
   ]
  },
  {
   "cell_type": "markdown",
   "id": "edd31613",
   "metadata": {},
   "source": [
    "#### Fitting steps\n",
    "1. CoxPHFitter( ) class object and save it in cph\n",
    "2. .fit( ) method and supply data, duration column and event column\n",
    "3. Print model estimate summary table\n",
    "The summary table provides coefficients, exp(coef): also known as Hazard Ratio, confidence intervals, z and p-values."
   ]
  },
  {
   "cell_type": "code",
   "execution_count": 16,
   "id": "38d6119a",
   "metadata": {},
   "outputs": [
    {
     "name": "stdout",
     "output_type": "stream",
     "text": [
      "                           coef  exp(coef)  se(coef)  coef lower 95%  \\\n",
      "covariate                                                              \n",
      "Treatment              0.386131   1.471277  0.201714       -0.009221   \n",
      "Karnofsky score       -0.033981   0.966590  0.005505       -0.044770   \n",
      "Months from Diagnosis -0.001157   0.998844  0.009118       -0.019028   \n",
      "Age                   -0.007244   0.992782  0.009193       -0.025262   \n",
      "Prior Therapy         -0.000266   0.999734  0.022912       -0.045172   \n",
      "C_Type_1              -0.700058   0.496556  0.245515       -1.181258   \n",
      "C_Type_2               0.137007   1.146836  0.223253       -0.300560   \n",
      "\n",
      "                       coef upper 95%  exp(coef) lower 95%  \\\n",
      "covariate                                                    \n",
      "Treatment                    0.781482             0.990821   \n",
      "Karnofsky score             -0.023191             0.956217   \n",
      "Months from Diagnosis        0.016715             0.981152   \n",
      "Age                          0.010774             0.975054   \n",
      "Prior Therapy                0.044640             0.955833   \n",
      "C_Type_1                    -0.218859             0.306892   \n",
      "C_Type_2                     0.574574             0.740403   \n",
      "\n",
      "                       exp(coef) upper 95%  cmp to         z             p  \\\n",
      "covariate                                                                    \n",
      "Treatment                         2.184708     0.0  1.914251  5.558808e-02   \n",
      "Karnofsky score                   0.977076     0.0 -6.172710  6.712920e-10   \n",
      "Months from Diagnosis             1.016855     0.0 -0.126842  8.990654e-01   \n",
      "Age                               1.010832     0.0 -0.788003  4.306949e-01   \n",
      "Prior Therapy                     1.045652     0.0 -0.011595  9.907484e-01   \n",
      "C_Type_1                          0.803435     0.0 -2.851392  4.352825e-03   \n",
      "C_Type_2                          1.776374     0.0  0.613685  5.394232e-01   \n",
      "\n",
      "                        -log2(p)  \n",
      "covariate                         \n",
      "Treatment               4.169081  \n",
      "Karnofsky score        30.472341  \n",
      "Months from Diagnosis   0.153502  \n",
      "Age                     1.215262  \n",
      "Prior Therapy           0.013409  \n",
      "C_Type_1                7.843832  \n",
      "C_Type_2                0.890510  \n"
     ]
    }
   ],
   "source": [
    "data[\"Status\"] = data[\"Status\"].astype(bool)\n",
    "cph = CoxPHFitter()\n",
    "cph.fit(data, duration_col = \"Survival(Days)\", event_col = \"Status\")\n",
    "print(cph.summary)"
   ]
  },
  {
   "cell_type": "markdown",
   "id": "d0968dde",
   "metadata": {},
   "source": [
    "## Plot Partial Effects on Outcome\n",
    "**plot_partial_effects_on_outcome( )** method to see how the survival varies for age group of 50, 60, 70 and 80 years old patients compared to their baseline function."
   ]
  },
  {
   "cell_type": "code",
   "execution_count": 17,
   "id": "a2b4026c",
   "metadata": {},
   "outputs": [
    {
     "data": {
      "image/png": "[encoded data removed]",
      "text/plain": [
       "<Figure size 432x288 with 1 Axes>"
      ]
     },
     "metadata": {
      "needs_background": "light"
     },
     "output_type": "display_data"
    }
   ],
   "source": [
    "cph.plot_partial_effects_on_outcome(covariates = \"Age\", values = [50, 60, 70, 80], cmap = 'coolwarm')\n",
    "plt.title(\"Survival function for different age values\")\n",
    "plt.show()"
   ]
  },
  {
   "cell_type": "markdown",
   "id": "3ee7eb72",
   "metadata": {},
   "source": [
    "## Plot Coefficients"
   ]
  },
  {
   "cell_type": "markdown",
   "id": "d3754130",
   "metadata": {},
   "source": [
    "### Plot the ranking of variables in terms of their log(HR) using the **.plot( )** method.\n",
    "**log(HR)** - natural logarithm of the hazard ratio (HR) in survival analysis. \n",
    "\n",
    "**The hazard ratio is a measure of the relative risk of experiencing an event (such as death, failure, or any predefined outcome) between two groups or levels of a covariate.**\n",
    "\n",
    "**By taking the natural logarithm (log base e) of the hazard ratio, the resulting value is known as the \"log(HR)\" or \"log hazard ratio.\" "
   ]
  },
  {
   "cell_type": "code",
   "execution_count": 18,
   "id": "9abb7c75",
   "metadata": {},
   "outputs": [
    {
     "data": {
      "image/png": "[encoded data removed]",
      "text/plain": [
       "<Figure size 432x288 with 1 Axes>"
      ]
     },
     "metadata": {
      "needs_background": "light"
     },
     "output_type": "display_data"
    }
   ],
   "source": [
    "cph.plot()\n",
    "plt.title(\"variable ranking based on log(HR)\")\n",
    "plt.show()"
   ]
  },
  {
   "cell_type": "markdown",
   "id": "f465897f",
   "metadata": {},
   "source": [
    "## The hazard ratios and confidence intervals calculated from a Cox proportional hazard model"
   ]
  },
  {
   "cell_type": "code",
   "execution_count": 19,
   "id": "3375474b",
   "metadata": {},
   "outputs": [
    {
     "name": "stdout",
     "output_type": "stream",
     "text": [
      "Hazard Ratios: covariate\n",
      "Treatment                1.471277\n",
      "Karnofsky score          0.966590\n",
      "Months from Diagnosis    0.998844\n",
      "Age                      0.992782\n",
      "Prior Therapy            0.999734\n",
      "C_Type_1                 0.496556\n",
      "C_Type_2                 1.146836\n",
      "Name: exp(coef), dtype: float64\n",
      "Confidence Intervals:                        95% lower-bound  95% upper-bound\n",
      "covariate                                              \n",
      "Treatment                    -0.009221         0.781482\n",
      "Karnofsky score              -0.044770        -0.023191\n",
      "Months from Diagnosis        -0.019028         0.016715\n",
      "Age                          -0.025262         0.010774\n",
      "Prior Therapy                -0.045172         0.044640\n",
      "C_Type_1                     -1.181258        -0.218859\n",
      "C_Type_2                     -0.300560         0.574574\n"
     ]
    }
   ],
   "source": [
    "hazard_ratios = cph.hazard_ratios_\n",
    "confidence_intervals = cph.confidence_intervals_\n",
    "\n",
    "print(\"Hazard Ratios:\", hazard_ratios)\n",
    "print(\"Confidence Intervals:\", confidence_intervals)"
   ]
  },
  {
   "cell_type": "markdown",
   "id": "bc1bb678",
   "metadata": {},
   "source": [
    "### References : https://www.stat.rice.edu/~sneeley/STAT553/Datasets/survivaldata.txt , FMI - Biostatistics course - Lecture 10 - Survival analysis: basic definitions, Kaplan-Maier method, log-rank test and Cox model, https://www.youtube.com/watch?v=PH2o_KVF7Jw, https://en.wikipedia.org/wiki/Performance_status , https://www.uptodate.com/contents/image?imageKey=PC%2F58785"
   ]
  }
 ],
 "metadata": {
  "kernelspec": {
   "display_name": "Python 3",
   "language": "python",
   "name": "python3"
  },
  "language_info": {
   "codemirror_mode": {
    "name": "ipython",
    "version": 3
   },
   "file_extension": ".py",
   "mimetype": "text/x-python",
   "name": "python",
   "nbconvert_exporter": "python",
   "pygments_lexer": "ipython3",
   "version": "3.9.2"
  }
 },
 "nbformat": 4,
 "nbformat_minor": 5
}
